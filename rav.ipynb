{
 "cells": [
  {
   "cell_type": "markdown",
   "metadata": {},
   "source": [
    "### python data structures\n",
    "lists\n",
    ". its one of the common data structures supports by python ,the"
   ]
  },
  {
   "cell_type": "code",
   "execution_count": 15,
   "metadata": {},
   "outputs": [
    {
     "name": "stdout",
     "output_type": "stream",
     "text": [
      "[1, 8, 16, 9, 12]\n",
      "8\n",
      "1\n",
      "12\n",
      "9\n",
      "16\n",
      "1\n",
      "[8, 16, 9]\n",
      "[16, 9, 12]\n",
      "[16, 9]\n",
      "[8, 16, 9, 12]\n",
      "[16]\n"
     ]
    }
   ],
   "source": [
    "list1=[1,8,16,9,12]\n",
    "\n",
    "print(list1)\n",
    "print(list1[1])\n",
    "print(list1[0])\n",
    "print(list1[-1])\n",
    "print(list1[-2])\n",
    "print(list1[-3])\n",
    "print(list1[-5])\n",
    "print(list1[1:4])\n",
    "print(list1[2:5])\n",
    "print(list1[2:-1])\n",
    "print(list1[1:])\n",
    "print(list1[2:3])"
   ]
  },
  {
   "cell_type": "code",
   "execution_count": 24,
   "metadata": {},
   "outputs": [
    {
     "name": "stdout",
     "output_type": "stream",
     "text": [
      "[1, 2, 4]\n",
      "[1, [3], 4]\n"
     ]
    }
   ],
   "source": [
    "#update# \n",
    "li=[1,2,4]\n",
    "print(li)\n",
    "li[1]=[3]\n",
    "print(li)\n"
   ]
  },
  {
   "cell_type": "code",
   "execution_count": 25,
   "metadata": {},
   "outputs": [
    {
     "name": "stdout",
     "output_type": "stream",
     "text": [
      "[1, [3], 4]\n",
      "[1, 4]\n"
     ]
    }
   ],
   "source": [
    "#delete#\n",
    "print(li)\n",
    "del(li[1])\n",
    "print(li)"
   ]
  },
  {
   "cell_type": "markdown",
   "metadata": {},
   "source": [
    "# basic list operations"
   ]
  },
  {
   "cell_type": "code",
   "execution_count": 1,
   "metadata": {},
   "outputs": [
    {
     "name": "stdout",
     "output_type": "stream",
     "text": [
      "[1, 2, 3, 1, 2, 3]\n",
      "6\n",
      "True\n",
      "False\n",
      "1\n",
      "2\n",
      "3\n"
     ]
    }
   ],
   "source": [
    "list=[1,2,3]\n",
    "len(list)\n",
    "print(list*2)\n",
    "print(len(list*2))\n",
    "print(2 in list)\n",
    "print(4 in list)\n",
    "for x in range(len(list)):\n",
    "   #print(list[x],end='') #(format 123)\n",
    "    print((list[x]))#,end='') "
   ]
  },
  {
   "cell_type": "code",
   "execution_count": 2,
   "metadata": {},
   "outputs": [
    {
     "name": "stdout",
     "output_type": "stream",
     "text": [
      "[1, 2, 3]\n",
      "1\n",
      "3\n",
      "6\n",
      "2\n",
      "1.6666666666666667\n",
      "2.0\n"
     ]
    }
   ],
   "source": [
    "print(list)\n",
    "print(min(list))\n",
    "print(max(list))\n",
    "print(sum(list))\n",
    "print(sum(list)//len(list))\n",
    "print((sum(list[1::1]))/len(list))\n",
    "print((sum(list[1::2]))/len(list[1::2]))"
   ]
  },
  {
   "cell_type": "code",
   "execution_count": 15,
   "metadata": {},
   "outputs": [
    {
     "name": "stdout",
     "output_type": "stream",
     "text": [
      "5\n",
      "2\n",
      "1\n"
     ]
    }
   ],
   "source": [
    "list=[1,2,3]\n",
    "print(sum(list[1::1]))\n",
    "print(sum(list[1::2]))\n",
    "print(len(list[1::2]))"
   ]
  },
  {
   "cell_type": "code",
   "execution_count": 30,
   "metadata": {},
   "outputs": [
    {
     "name": "stdout",
     "output_type": "stream",
     "text": [
      "3\n",
      "[1, 2, 3, 6]\n",
      "[1, 2, 3, 6, 5]\n",
      "1\n",
      "2\n",
      "[1, 2, 3, 5, 6]\n",
      "[1, 3, 5, 6]\n",
      "[1, 3, 5, 6, 2, 5, 9, 5]\n",
      "[5, 9, 5, 2, 6, 5, 3, 1]\n",
      "[5, 5, 2, 6, 5, 3, 1]\n"
     ]
    }
   ],
   "source": [
    "list=[1,2,3]\n",
    "print(len(list))\n",
    "list.append(6)\n",
    "print(list)\n",
    "list.insert(4,5)\n",
    "print(list)\n",
    "print(list.count(3))\n",
    "print(list.index(3))\n",
    "list.sort()\n",
    "print(list)\n",
    "list.pop(1)\n",
    "print(list)\n",
    "list1=[2,5,9,5]\n",
    "list.extend(list1)\n",
    "print(list)\n",
    "list.reverse()\n",
    "print(list)\n",
    "list.remove(9)\n",
    "print(list)\n",
    "\n"
   ]
  },
  {
   "cell_type": "markdown",
   "metadata": {},
   "source": [
    "## function to find second large item from list\n",
    "## input:[1,4,2,5,7,]\n",
    "## output:[5]\n"
   ]
  },
  {
   "cell_type": "code",
   "execution_count": 39,
   "metadata": {},
   "outputs": [
    {
     "data": {
      "text/plain": [
       "5"
      ]
     },
     "execution_count": 39,
     "metadata": {},
     "output_type": "execute_result"
    }
   ],
   "source": [
    "list=[1,4,2,5,7]\n",
    "def secondlarge(list):    \n",
    "    list.sort()\n",
    "    return list[-2] #used after sorting to print the last second value\n",
    "secondlarge(list)"
   ]
  },
  {
   "cell_type": "code",
   "execution_count": 36,
   "metadata": {},
   "outputs": [
    {
     "data": {
      "text/plain": [
       "5"
      ]
     },
     "execution_count": 36,
     "metadata": {},
     "output_type": "execute_result"
    }
   ],
   "source": [
    "def genericleast(list,n):\n",
    "    list.sort()\n",
    "    return list[n-1]\n",
    "genericleast(list,4)"
   ]
  },
  {
   "cell_type": "markdown",
   "metadata": {},
   "source": [
    "## searching techniques\n",
    "*linear search,binary search\n",
    "### linear search"
   ]
  },
  {
   "cell_type": "code",
   "execution_count": 50,
   "metadata": {},
   "outputs": [
    {
     "data": {
      "text/plain": [
       "-1"
      ]
     },
     "execution_count": 50,
     "metadata": {},
     "output_type": "execute_result"
    }
   ],
   "source": [
    "def linearsearch(list,targetitem):\n",
    "    for x in range(len(list)):\n",
    "        if list[x]==targetitem:\n",
    "            return x\n",
    "        return -1\n",
    "list=[1,5,4,3]\n",
    "linearsearch(list,5)\n",
    "    "
   ]
  },
  {
   "cell_type": "code",
   "execution_count": 54,
   "metadata": {},
   "outputs": [
    {
     "name": "stdout",
     "output_type": "stream",
     "text": [
      "1 4 7 "
     ]
    }
   ],
   "source": [
    "def linearsearch(list,targetitem):\n",
    "    for x in range(len(list)):\n",
    "        if list[x]==targetitem:\n",
    "            print(x,end=' ')\n",
    "    return\n",
    "list=[1,2,3,5,2,6,8,2]\n",
    "linearsearch(list,2)"
   ]
  },
  {
   "cell_type": "code",
   "execution_count": 70,
   "metadata": {},
   "outputs": [
    {
     "name": "stdout",
     "output_type": "stream",
     "text": [
      "!   ! ! ! ! ! ! !   "
     ]
    }
   ],
   "source": [
    "def linearsearch(li,tarItem):\n",
    "    for x in range(len(li)):\n",
    "        if li[x]==tarItem:\n",
    "            j=0\n",
    "            while j!=x+1:\n",
    "                print(\"!\",end=\" \")\n",
    "                j=j+1\n",
    "            print(end=\"  \")\n",
    "    return\n",
    "li=[1,5,9,6,5,15,1,2,5]\n",
    "linearsearch(li,1) #!! !!!! !!!!!!!!\n",
    "        "
   ]
  },
  {
   "cell_type": "markdown",
   "metadata": {},
   "source": [
    "### function\n",
    "### input=list\n",
    "### output=formatted\n",
    "### test case:[12,2,45,9,18,15,36]--sum60\n",
    "### a list item multiple of 3 and 5"
   ]
  },
  {
   "cell_type": "code",
   "execution_count": 79,
   "metadata": {},
   "outputs": [
    {
     "data": {
      "text/plain": [
       "60"
      ]
     },
     "execution_count": 79,
     "metadata": {},
     "output_type": "execute_result"
    }
   ],
   "source": [
    "def linearsearch(li):\n",
    "    sum = 0\n",
    "    for x in range(len(li)):\n",
    "        if li[x]%3==0 and li[x]%5==0:\n",
    "            sum += li[x]\n",
    "    return sum\n",
    "li=[12,2,45,9,18,15,36]\n",
    "linearsearch(li)"
   ]
  },
  {
   "cell_type": "markdown",
   "metadata": {},
   "source": [
    "#funtion\n",
    "#input:list\n",
    "#output:formatted\n",
    "#test case:\n",
    "#[1,2,3,4,5]--[1,3,8,15,5] # print first and last as it is because first number does not have \n",
    "previous and last does not have next number\n",
    "#[6,5,2,8,2]--[6,12,40,4,2]\n",
    "#need to multiply the previous and next number"
   ]
  },
  {
   "cell_type": "code",
   "execution_count": null,
   "metadata": {},
   "outputs": [],
   "source": [
    "def linearsearch(li):\n",
    "    "
   ]
  }
 ],
 "metadata": {
  "kernelspec": {
   "display_name": "Python 3",
   "language": "python",
   "name": "python3"
  },
  "language_info": {
   "codemirror_mode": {
    "name": "ipython",
    "version": 3
   },
   "file_extension": ".py",
   "mimetype": "text/x-python",
   "name": "python",
   "nbconvert_exporter": "python",
   "pygments_lexer": "ipython3",
   "version": "3.7.3"
  }
 },
 "nbformat": 4,
 "nbformat_minor": 2
}
